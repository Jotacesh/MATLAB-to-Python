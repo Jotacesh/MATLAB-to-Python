{
 "cells": [
  {
   "cell_type": "markdown",
   "id": "b9986afa",
   "metadata": {},
   "source": [
    "El objetivo de este código es poder adquirir el conocimiento en python, para trasladar todo lo que sé de matlab \n",
    "a este lenguaje de programación.\n",
    "\n",
    "## Puntos a tratar:\n",
    "- ### Librerías más utilizadas\n",
    "- ### Funciones típicas\n",
    "- ### ¿Qué cosas sé hacer en matlab?\n",
    "- ### Traslado de programas a python"
   ]
  },
  {
   "cell_type": "markdown",
   "id": "da022dde",
   "metadata": {},
   "source": [
    "## Librerías:\n",
    "\n",
    "Para comenzar utilizaré 2 principales: Numpy y matplotlib"
   ]
  },
  {
   "cell_type": "code",
   "execution_count": 4,
   "id": "e62e398f",
   "metadata": {},
   "outputs": [],
   "source": [
    "import numpy as np\n",
    "import matplotlib.pyplot as plt"
   ]
  },
  {
   "cell_type": "markdown",
   "id": "59914abc",
   "metadata": {},
   "source": [
    "Para crear vectores se hace uso de la función np.array( ), donde todo el arreglo debe ir entre [ ]. Si se añade más de una fila, simplemente se agregan separadas por una coma:"
   ]
  },
  {
   "cell_type": "code",
   "execution_count": 11,
   "id": "edec890a",
   "metadata": {},
   "outputs": [
    {
     "name": "stdout",
     "output_type": "stream",
     "text": [
      "[[1 3 4]\n",
      " [2 0 1]\n",
      " [1 4 2]]\n"
     ]
    }
   ],
   "source": [
    "matriz=np.array([[1,3,4],[2,0,1],[1,4,2]])\n",
    "print(matriz)"
   ]
  },
  {
   "cell_type": "markdown",
   "id": "2b8c9f16",
   "metadata": {},
   "source": [
    "Para referirse a los elementos del arreglo, se usan índices entre [ ], y van indexados desde 0 a n-1. En este caso la matriz tiene dimensión 3x3:"
   ]
  },
  {
   "cell_type": "code",
   "execution_count": 13,
   "id": "a2da2d84",
   "metadata": {},
   "outputs": [
    {
     "data": {
      "text/plain": [
       "4"
      ]
     },
     "execution_count": 13,
     "metadata": {},
     "output_type": "execute_result"
    }
   ],
   "source": [
    "matriz[2,1]"
   ]
  },
  {
   "cell_type": "markdown",
   "id": "d787cc18",
   "metadata": {},
   "source": [
    "Esto muestra el elemento de la fila 3 (índice 2) y columna 2 (índice 1).\n",
    "\n",
    "## find en Python\n",
    "En matlab, la función find, permite encontrar los índices de un arreglo que cumple cierta condición. \n",
    "En python la función que logra esto es \"where\". "
   ]
  },
  {
   "cell_type": "code",
   "execution_count": 16,
   "id": "2e35ff5f",
   "metadata": {},
   "outputs": [
    {
     "name": "stdout",
     "output_type": "stream",
     "text": [
      "[0 1 1 2] [0 1 2 0]\n",
      "[1 0 1 1]\n"
     ]
    }
   ],
   "source": [
    "a,b=np.where(matriz<=1)\n",
    "print(a,b)"
   ]
  },
  {
   "cell_type": "markdown",
   "id": "f58317ce",
   "metadata": {},
   "source": [
    "Los índices de \"a\" son las filas y \"b\" las columnas, en las cuales existía un número menor o igual a 1.\n",
    "\n",
    "## encontrar -9999 y reemplazarlos por NaN"
   ]
  },
  {
   "cell_type": "code",
   "execution_count": 28,
   "id": "3db58e61",
   "metadata": {},
   "outputs": [
    {
     "name": "stdout",
     "output_type": "stream",
     "text": [
      "(array([ 3,  7, 13]),)\n",
      "[ 1.  3.  5. nan  1.  4.  2. nan  2.  1.  4.  0.  0. nan]\n"
     ]
    }
   ],
   "source": [
    "\n",
    "data=np.array([1,3,5,-9999,1,4,2,-9999,2,1,4,0,0,-9999],dtype=float)\n",
    "idx=np.where(data==-9999)\n",
    "print(idx)\n",
    "data[idx]=np.nan\n",
    "print(data)"
   ]
  },
  {
   "cell_type": "markdown",
   "id": "6d371832",
   "metadata": {},
   "source": [
    "Notar que se define \"data\" de tipo flotante, ya que \"np.nan\" es un valor flotante. \n"
   ]
  }
 ],
 "metadata": {
  "kernelspec": {
   "display_name": "Python 3 (ipykernel)",
   "language": "python",
   "name": "python3"
  },
  "language_info": {
   "codemirror_mode": {
    "name": "ipython",
    "version": 3
   },
   "file_extension": ".py",
   "mimetype": "text/x-python",
   "name": "python",
   "nbconvert_exporter": "python",
   "pygments_lexer": "ipython3",
   "version": "3.11.4"
  }
 },
 "nbformat": 4,
 "nbformat_minor": 5
}
